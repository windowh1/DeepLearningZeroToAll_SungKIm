{
 "cells": [
  {
   "cell_type": "code",
   "execution_count": 7,
   "metadata": {},
   "outputs": [
    {
     "name": "stderr",
     "output_type": "stream",
     "text": [
      "2022-11-20 15:56:39.353905: I tensorflow/core/common_runtime/pluggable_device/pluggable_device_factory.cc:305] Could not identify NUMA node of platform GPU ID 0, defaulting to 0. Your kernel may not have been built with NUMA support.\n",
      "2022-11-20 15:56:39.353927: I tensorflow/core/common_runtime/pluggable_device/pluggable_device_factory.cc:271] Created TensorFlow device (/job:localhost/replica:0/task:0/device:GPU:0 with 0 MB memory) -> physical PluggableDevice (device: 0, name: METAL, pci bus id: <undefined>)\n",
      "2022-11-20 15:56:39.359963: I tensorflow/core/grappler/optimizers/custom_graph_optimizer_registry.cc:113] Plugin optimizer for device_type GPU is enabled.\n",
      "2022-11-20 15:56:39.395232: I tensorflow/core/grappler/optimizers/custom_graph_optimizer_registry.cc:113] Plugin optimizer for device_type GPU is enabled.\n"
     ]
    },
    {
     "name": "stdout",
     "output_type": "stream",
     "text": [
      "Epoch: 0001, Cost: 2.503652150\n",
      "Epoch: 0002, Cost: 1.068717952\n",
      "Epoch: 0003, Cost: 0.854618653\n",
      "Epoch: 0004, Cost: 0.750256012\n",
      "Epoch: 0005, Cost: 0.684621683\n",
      "Epoch: 0006, Cost: 0.637911608\n",
      "Epoch: 0007, Cost: 0.602260584\n",
      "Epoch: 0008, Cost: 0.573793833\n",
      "Epoch: 0009, Cost: 0.550318989\n",
      "Epoch: 0010, Cost: 0.530489628\n",
      "Epoch: 0011, Cost: 0.513424391\n",
      "Epoch: 0012, Cost: 0.498516319\n",
      "Epoch: 0013, Cost: 0.485331369\n",
      "Epoch: 0014, Cost: 0.473549998\n",
      "Epoch: 0015, Cost: 0.462931124\n",
      "Accuracy:  0.89229995\n",
      "random_idx :  438\n",
      "Prediction:  [7]\n"
     ]
    },
    {
     "name": "stderr",
     "output_type": "stream",
     "text": [
      "2022-11-20 15:57:02.615301: I tensorflow/core/grappler/optimizers/custom_graph_optimizer_registry.cc:113] Plugin optimizer for device_type GPU is enabled.\n",
      "2022-11-20 15:57:02.640983: I tensorflow/core/grappler/optimizers/custom_graph_optimizer_registry.cc:113] Plugin optimizer for device_type GPU is enabled.\n"
     ]
    },
    {
     "data": {
      "image/png": "[encoded data removed]",
      "text/plain": [
       "<Figure size 640x480 with 1 Axes>"
      ]
     },
     "metadata": {},
     "output_type": "display_data"
    }
   ],
   "source": [
    "import tensorflow.compat.v1 as tf\n",
    "import matplotlib.pyplot as plt\n",
    "import numpy as np\n",
    "import random\n",
    "\n",
    "tf.disable_v2_behavior()\n",
    "\n",
    "mnist = tf.keras.datasets.mnist\n",
    "(x_train, y_train), (x_test, y_test) = mnist.load_data()\n",
    "\n",
    "x_train, x_test = x_train/255.0, x_test/255.0   #Feature scaling 적용\n",
    "\n",
    "nb_classes = 10;\n",
    "\n",
    "x_train_new = x_train.reshape(len(x_train), 784)         #60000 * 784 배열로 변경 - 한행당 이미지 하나 \n",
    "y_train_new = np.zeros((len(y_train), nb_classes))       #60000 * 10 배열 생성\n",
    "for i in range(len(y_train_new)):                        \n",
    "  y_train_new[i,y_train[i]] = 1                          #one-hot encoding \n",
    "\n",
    "x_test_new = x_test.reshape(len(x_test), 784)         #60000 * 784 배열로 변경 - 한행당 이미지 하나 \n",
    "y_test_new = np.zeros((len(y_test), nb_classes))       #60000 * 10 배열 생성\n",
    "for i in range(len(y_test_new)):                        \n",
    "  y_test_new[i,y_test[i]] = 1                          #one-hot encoding \n",
    "\n",
    "\n",
    "# MNIST data image of shape 28 * 28 = 784\n",
    "X = tf.placeholder(tf.float32, [None, 784])\n",
    "# 0 - 9 digits recognition = 10 classes\n",
    "Y = tf.placeholder(tf.float32, [None, nb_classes])   #6만개의 학습에 대한 10개의 가설 결과\n",
    "\n",
    "W = tf.Variable(tf.random_normal([784, nb_classes]))  #가설이 10개이고 가설별로 784개의 weigh을 가짐, 즉 7840개의 w\n",
    "b = tf.Variable(tf.random_normal([nb_classes]))       #가설이 10개니 가설의 b도 10\n",
    "\n",
    "# Hypothesis (using softmax)\n",
    "hypothesis = tf.nn.softmax(tf.matmul(X, W) + b)  #60000 x 10 행렬 - 행별로 열의 값을 확율로 바꿈 \n",
    "\n",
    "#cross entropy\n",
    "cost = tf.reduce_mean(-tf.reduce_sum(Y * tf.log(hypothesis), axis=1))\n",
    "optimizer = tf.train.GradientDescentOptimizer(learning_rate=0.1).minimize(cost)\n",
    "\n",
    "# Test model\n",
    "is_correct = tf.equal(tf.arg_max(hypothesis, 1), tf.arg_max(Y, 1))\n",
    "# Calculate accuracy\n",
    "accuracy = tf.reduce_mean(tf.cast(is_correct, tf.float32))\n",
    "\n",
    "# parameters\n",
    "training_epochs = 15  #traing을 몇번 돌릴것인지\n",
    "batch_size = 100  #한번에 몇건씩 읽은것인지\n",
    "total_batch = int(len(x_train_new) / batch_size)\n",
    "\n",
    "with tf.Session() as sess:\n",
    "    # Initialize TensorFlow variables\n",
    "    sess.run(tf.global_variables_initializer())\n",
    "    # Training cycle\n",
    "    for epoch in range(training_epochs):\n",
    "        avg_cost = 0\n",
    "        \n",
    "        for i in range(total_batch):\n",
    "            #print (epoch,batch_size )\n",
    "            batch_xs = x_train_new[(i * batch_size):(i + 1) * batch_size]     \n",
    "            batch_ys = y_train_new[(i * batch_size):(i + 1) * batch_size]\n",
    "\n",
    "            _, cost_val = sess.run([optimizer, cost], feed_dict={X: batch_xs, Y: batch_ys})\n",
    "            avg_cost += cost_val / total_batch\n",
    "            \n",
    "        print(\"Epoch: {:04d}, Cost: {:.9f}\".format(epoch + 1, avg_cost))\n",
    "\n",
    "\n",
    "    # Test the model using test sets\n",
    "    print(\n",
    "        \"Accuracy: \",\n",
    "        accuracy.eval(\n",
    "            session=sess, feed_dict={X: x_test_new, Y: y_test_new}\n",
    "        ),\n",
    "    )\n",
    "\n",
    "    # Get one and predict\n",
    "    random_idx = random.randrange(1,10000)\n",
    "    print (\"random_idx : \", random_idx)\n",
    "    print(\n",
    "        \"Prediction: \",\n",
    "        sess.run(tf.argmax(hypothesis, 1), feed_dict={X: x_test_new[random_idx : random_idx + 1]}),\n",
    "    )\n",
    "\n",
    "    plt.imshow(\n",
    "        x_test_new[random_idx : random_idx + 1].reshape(28, 28),\n",
    "        cmap=\"Greys\",\n",
    "        interpolation=\"nearest\",\n",
    "    )\n",
    "    plt.show()"
   ]
  }
 ],
 "metadata": {
  "kernelspec": {
   "display_name": "Python 3.8.13 ('lucy')",
   "language": "python",
   "name": "python3"
  },
  "language_info": {
   "codemirror_mode": {
    "name": "ipython",
    "version": 3
   },
   "file_extension": ".py",
   "mimetype": "text/x-python",
   "name": "python",
   "nbconvert_exporter": "python",
   "pygments_lexer": "ipython3",
   "version": "3.8.13"
  },
  "orig_nbformat": 4,
  "vscode": {
   "interpreter": {
    "hash": "49d64852e7bb2c7b8f11879b62c9f0ee4c76bafff53b86e52139a1ccedd5c713"
   }
  }
 },
 "nbformat": 4,
 "nbformat_minor": 2
}
